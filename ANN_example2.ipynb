{
 "cells": [
  {
   "cell_type": "markdown",
   "metadata": {},
   "source": [
    "## ANN - Example 2\n",
    "This code is from \"Python - All in one for Dummies\" by John Shovic and Alan Simpson"
   ]
  },
  {
   "cell_type": "code",
   "execution_count": 1,
   "metadata": {},
   "outputs": [],
   "source": [
    "# this example uses the Fashion_MNIST data\n",
    "# https://github.com/zalandoresearch/fashion-mnist \n",
    "# the images are 28x28"
   ]
  },
  {
   "cell_type": "code",
   "execution_count": 2,
   "metadata": {},
   "outputs": [],
   "source": [
    "#import libraries\n",
    "import numpy as np\n",
    "import matplotlib.pyplot as plt\n",
    "import matplotlib.image as mpimg\n",
    "import seaborn as sns\n",
    "import tensorflow as tf\n",
    "from tensorflow.python.framework import ops\n",
    "from tensorflow.examples.tutorials.mnist import input_data\n",
    "from PIL import Image"
   ]
  },
  {
   "cell_type": "code",
   "execution_count": 3,
   "metadata": {},
   "outputs": [
    {
     "name": "stdout",
     "output_type": "stream",
     "text": [
      "WARNING:tensorflow:From <ipython-input-3-604806b7c197>:4: read_data_sets (from tensorflow.contrib.learn.python.learn.datasets.mnist) is deprecated and will be removed in a future version.\n",
      "Instructions for updating:\n",
      "Please use alternatives such as official/mnist/dataset.py from tensorflow/models.\n",
      "WARNING:tensorflow:From C:\\ProgramData\\Anaconda3\\lib\\site-packages\\tensorflow\\contrib\\learn\\python\\learn\\datasets\\mnist.py:260: maybe_download (from tensorflow.contrib.learn.python.learn.datasets.base) is deprecated and will be removed in a future version.\n",
      "Instructions for updating:\n",
      "Please write your own downloading logic.\n",
      "WARNING:tensorflow:From C:\\ProgramData\\Anaconda3\\lib\\site-packages\\tensorflow\\contrib\\learn\\python\\learn\\datasets\\mnist.py:262: extract_images (from tensorflow.contrib.learn.python.learn.datasets.mnist) is deprecated and will be removed in a future version.\n",
      "Instructions for updating:\n",
      "Please use tf.data to implement this functionality.\n",
      "Extracting ann_example2_data/fashion\\train-images-idx3-ubyte.gz\n",
      "WARNING:tensorflow:From C:\\ProgramData\\Anaconda3\\lib\\site-packages\\tensorflow\\contrib\\learn\\python\\learn\\datasets\\mnist.py:267: extract_labels (from tensorflow.contrib.learn.python.learn.datasets.mnist) is deprecated and will be removed in a future version.\n",
      "Instructions for updating:\n",
      "Please use tf.data to implement this functionality.\n",
      "Extracting ann_example2_data/fashion\\train-labels-idx1-ubyte.gz\n",
      "WARNING:tensorflow:From C:\\ProgramData\\Anaconda3\\lib\\site-packages\\tensorflow\\contrib\\learn\\python\\learn\\datasets\\mnist.py:110: dense_to_one_hot (from tensorflow.contrib.learn.python.learn.datasets.mnist) is deprecated and will be removed in a future version.\n",
      "Instructions for updating:\n",
      "Please use tf.one_hot on tensors.\n",
      "Extracting ann_example2_data/fashion\\t10k-images-idx3-ubyte.gz\n",
      "Extracting ann_example2_data/fashion\\t10k-labels-idx1-ubyte.gz\n",
      "WARNING:tensorflow:From C:\\ProgramData\\Anaconda3\\lib\\site-packages\\tensorflow\\contrib\\learn\\python\\learn\\datasets\\mnist.py:290: DataSet.__init__ (from tensorflow.contrib.learn.python.learn.datasets.mnist) is deprecated and will be removed in a future version.\n",
      "Instructions for updating:\n",
      "Please use alternatives such as official/mnist/dataset.py from tensorflow/models.\n",
      "WARNING:tensorflow:From C:\\ProgramData\\Anaconda3\\lib\\site-packages\\tensorflow\\python\\ops\\init_ops.py:1251: calling VarianceScaling.__init__ (from tensorflow.python.ops.init_ops) with dtype is deprecated and will be removed in a future version.\n",
      "Instructions for updating:\n",
      "Call initializer instance with the dtype argument instead of passing it to the constructor\n",
      "Epoch 1/5\n",
      "60000/60000 [==============================] - 52s 867us/sample - loss: 0.5054 - acc: 0.8217\n",
      "Epoch 2/5\n",
      "60000/60000 [==============================] - 48s 800us/sample - loss: 0.3792 - acc: 0.8640\n",
      "Epoch 3/5\n",
      "60000/60000 [==============================] - 15s 257us/sample - loss: 0.3387 - acc: 0.8764\n",
      "Epoch 4/5\n",
      "60000/60000 [==============================] - 17s 289us/sample - loss: 0.3103 - acc: 0.8871\n",
      "Epoch 5/5\n",
      "60000/60000 [==============================] - 17s 288us/sample - loss: 0.2933 - acc: 0.8915\n"
     ]
    }
   ],
   "source": [
    "# Import Fashion MNIST\n",
    "# note that onehotencoding is performed\n",
    "# if you do not have the correct path, it downloads regular MNIST and not fashion dataset ?\n",
    "fashion_mnist = input_data.read_data_sets('ann_example2_data/fashion', one_hot=True)\n",
    "\n",
    "fashion_mnist = tf.keras.datasets.fashion_mnist\n",
    "\n",
    "# setup training and test datasets\n",
    "(train_images, train_labels), (test_images, test_labels) = fashion_mnist.load_data()\n",
    "\n",
    "# set descriptive names to the ten classes within the Fashion_MNIST data.\n",
    "class_names = ['T-shirt/top', 'Trouser','Pullover', 'Dress', 'Coat', 'Sandal', 'Shirt', 'Sneaker', 'Bag', 'Ankle boot']\n",
    "\n",
    "# the images are gray-scale. We will normalize the values to [0-1]\n",
    "train_images = train_images / 255.0\n",
    "test_images = test_images / 255.0\n",
    "\n",
    "# set the ANN model\n",
    "model = tf.keras.Sequential()\n",
    "# they are 28x28 images\n",
    "model.add(tf.keras.layers.Flatten(input_shape=(28,28)))\n",
    "model.add(tf.keras.layers.Dense(128, activation='relu' ))\n",
    "model.add(tf.keras.layers.Dense(10, activation='softmax' )) \n",
    "\n",
    "# compile the model\n",
    "# Sparse categorical crossentropy is a loss function used to measure the error between categories across the data set. \n",
    "# Categorical refers to the fact that the data has more than two categories (binary) in the data set. \n",
    "# Sparse refers to using a single integer to refer to classes (0–9, in our example). \n",
    "# Entropy (a measure of disorder) refers to the mix of data between the categories.\n",
    "model.compile(optimizer=tf.train.AdamOptimizer(), loss='sparse_categorical_crossentropy',metrics=['accuracy'])\n",
    "\n",
    "# fit the model\n",
    "history = model.fit(train_images, train_labels, epochs=5)\n",
    "\n"
   ]
  },
  {
   "cell_type": "code",
   "execution_count": 4,
   "metadata": {},
   "outputs": [
    {
     "data": {
      "image/png": "[encoded data removed]",
      "text/plain": [
       "<Figure size 432x288 with 1 Axes>"
      ]
     },
     "metadata": {
      "needs_background": "light"
     },
     "output_type": "display_data"
    }
   ],
   "source": [
    "# Get training and test loss histories\n",
    "training_loss = history.history['loss']\n",
    "accuracy = history.history['acc']\n",
    "\n",
    "# Create count of the number of epochs\n",
    "epoch_count = range(1, len(training_loss) + 1)\n",
    "\n",
    "# Visualize loss history\n",
    "plt.figure(0)\n",
    "plt.plot(epoch_count, training_loss, 'r--')\n",
    "plt.plot(epoch_count, accuracy, 'b--')\n",
    "plt.legend(['Training Loss', 'Accuracy'])\n",
    "plt.xlabel('Epoch')\n",
    "plt.ylabel('History')\n",
    "plt.show(block=False);\n",
    "plt.pause(0.001)\n"
   ]
  },
  {
   "cell_type": "code",
   "execution_count": 5,
   "metadata": {},
   "outputs": [
    {
     "name": "stdout",
     "output_type": "stream",
     "text": [
      "10000/10000 [==============================] - 6s 604us/sample - loss: 0.3408 - acc: 0.8762\n"
     ]
    }
   ],
   "source": [
    "# evaluate the model, test with 10,000 images to calculate the model score\n",
    "test_loss, test_acc = model.evaluate(test_images, test_labels)"
   ]
  },
  {
   "cell_type": "code",
   "execution_count": 26,
   "metadata": {},
   "outputs": [
    {
     "data": {
      "image/png": "[encoded data removed]",
      "text/plain": [
       "<Figure size 432x288 with 1 Axes>"
      ]
     },
     "metadata": {
      "needs_background": "light"
     },
     "output_type": "display_data"
    }
   ],
   "source": [
    "# now we will test the model using a single test image from Fashion_MNIST dataset\n",
    "# run test image from Fashion_MNIST data\n",
    "img = test_images[182]\n",
    "\n",
    "plt.figure(1)\n",
    "plt.imshow(img)\n",
    "plt.show(block=False)\n",
    "plt.pause(0.001)\n"
   ]
  },
  {
   "cell_type": "code",
   "execution_count": 27,
   "metadata": {},
   "outputs": [
    {
     "name": "stdout",
     "output_type": "stream",
     "text": [
      "Prediction Output\n",
      "[[3.1890769e-02 8.5685337e-05 1.5798641e-02 7.2340047e-01 5.2208725e-02\n",
      "  2.2938336e-07 1.7474258e-01 5.2564463e-08 1.8707609e-03 2.1918879e-06]]\n",
      "\n"
     ]
    }
   ],
   "source": [
    "img = (np.expand_dims(img,0))\n",
    "\n",
    "singlePrediction = model.predict(img,steps=1)\n",
    "print (\"Prediction Output\")\n",
    "print(singlePrediction)\n",
    "print()"
   ]
  },
  {
   "cell_type": "code",
   "execution_count": 28,
   "metadata": {},
   "outputs": [
    {
     "name": "stdout",
     "output_type": "stream",
     "text": [
      "Our Network has concluded that the image number '15' is a Dress\n",
      "72% Confidence Level\n",
      "Test accuracy 0.8762\n"
     ]
    }
   ],
   "source": [
    "NumberElement = singlePrediction.argmax()\n",
    "Element = np.amax(singlePrediction)\n",
    "print (\"Our Network has concluded that the image number '15' is a \" +class_names[NumberElement])\n",
    "print (str(int(Element*100)) + \"% Confidence Level\")\n",
    "print('Test accuracy', test_acc)"
   ]
  },
  {
   "cell_type": "code",
   "execution_count": 29,
   "metadata": {},
   "outputs": [
    {
     "data": {
      "image/png": "[encoded data removed]",
      "text/plain": [
       "<Figure size 432x288 with 1 Axes>"
      ]
     },
     "metadata": {
      "needs_background": "light"
     },
     "output_type": "display_data"
    }
   ],
   "source": [
    "# now we will use an external image to test the model\n",
    "# read test dress image\n",
    "# the image is modified using Paint3D\n",
    "# https://answers.microsoft.com/en-us/insider/forum/all/how-do-i-change-the-file-size-and-resolution-of-an/8c588a74-e32b-4986-a764-050511f82af6\n",
    "imageName = \"ann_example2_data/test_image1.jpg\"\n",
    "testImg = Image.open(imageName)\n",
    "\n",
    "plt.figure(2)\n",
    "plt.imshow(testImg)\n",
    "plt.show(block=False)\n",
    "plt.pause(0.001)\n"
   ]
  },
  {
   "cell_type": "code",
   "execution_count": 30,
   "metadata": {},
   "outputs": [
    {
     "name": "stdout",
     "output_type": "stream",
     "text": [
      "Prediction Output\n",
      "[[5.47603190e-01 1.75455384e-08 1.16531339e-06 1.40842079e-04\n",
      "  1.08009757e-09 6.98168523e-10 4.38878499e-02 1.13508175e-14\n",
      "  4.08367008e-01 1.74745585e-09]]\n",
      "\n",
      "Our Network has concluded that the file 'ann_example2_data/test_image1.jpg' is a T-shirt/top\n",
      "54% Confidence Level\n"
     ]
    }
   ],
   "source": [
    "testImg.load()\n",
    "\n",
    "data = np.asarray( testImg, dtype=\"float\" )\n",
    "data = tf.image.rgb_to_grayscale(data)\n",
    "data = data/255.0\n",
    "data = tf.transpose(data, perm=[2,0,1])\n",
    "\n",
    "singlePrediction = model.predict(data,steps=1)\n",
    "print (\"Prediction Output\")\n",
    "print(singlePrediction)\n",
    "print()\n",
    "\n",
    "NumberElement = singlePrediction.argmax()\n",
    "Element = np.amax(singlePrediction)\n",
    "print (\"Our Network has concluded that the file '\" +imageName+\"' is a \"+class_names[NumberElement])\n",
    "print (str(int(Element*100)) + \"% Confidence Level\")\n",
    "plt.show()"
   ]
  },
  {
   "cell_type": "code",
   "execution_count": null,
   "metadata": {},
   "outputs": [],
   "source": [
    "# CONCLUSION\n",
    "# while the ANN model works well for the test dataset, it does not generalize for real life samples.\n",
    "# It is better to use CNN for image recognition."
   ]
  }
 ],
 "metadata": {
  "kernelspec": {
   "display_name": "Python 3",
   "language": "python",
   "name": "python3"
  },
  "language_info": {
   "codemirror_mode": {
    "name": "ipython",
    "version": 3
   },
   "file_extension": ".py",
   "mimetype": "text/x-python",
   "name": "python",
   "nbconvert_exporter": "python",
   "pygments_lexer": "ipython3",
   "version": "3.7.3"
  }
 },
 "nbformat": 4,
 "nbformat_minor": 2
}

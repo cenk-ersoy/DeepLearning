{
 "cells": [
  {
   "cell_type": "markdown",
   "metadata": {},
   "source": [
    "## Convolutional Neural Network (CNN) Example 2\n",
    "This example is from the Udemy course titled \"Deep Learning A-Z - Handson ANNs\"\n",
    "It is the result of the competition among students.\n",
    "The article can be found here: https://www.udemy.com/course/deeplearning/learn/lecture/7023358#questions/2276518 "
   ]
  },
  {
   "cell_type": "code",
   "execution_count": 1,
   "metadata": {},
   "outputs": [],
   "source": [
    "# import the required libraries\n",
    "from tensorflow.contrib.keras.api.keras.layers import Dropout\n",
    "from tensorflow.contrib.keras.api.keras.models import Sequential\n",
    "from tensorflow.contrib.keras.api.keras.layers import Conv2D\n",
    "from tensorflow.contrib.keras.api.keras.layers import MaxPooling2D\n",
    "from tensorflow.contrib.keras.api.keras.layers import Flatten\n",
    "from tensorflow.contrib.keras.api.keras.layers import Dense\n",
    "from tensorflow.contrib.keras.api.keras.callbacks import Callback\n",
    "from tensorflow.contrib.keras.api.keras.preprocessing.image import ImageDataGenerator\n",
    "from tensorflow.contrib.keras import backend\n",
    "import os.path"
   ]
  },
  {
   "cell_type": "code",
   "execution_count": 2,
   "metadata": {},
   "outputs": [],
   "source": [
    "class LossHistory(Callback):\n",
    "    def __init__(self):\n",
    "        super().__init__()\n",
    "        self.epoch_id = 0\n",
    "        self.losses = ''\n",
    " \n",
    "    def on_epoch_end(self, epoch, logs={}):\n",
    "        self.losses += \"Epoch {}: accuracy -> {:.4f}, val_accuracy -> {:.4f}\\n\"\\\n",
    "            .format(str(self.epoch_id), logs.get('acc'), logs.get('val_acc'))\n",
    "        self.epoch_id += 1\n",
    " \n",
    "    def on_train_begin(self, logs={}):\n",
    "        self.losses += 'Training begins...\\n'"
   ]
  },
  {
   "cell_type": "code",
   "execution_count": 3,
   "metadata": {},
   "outputs": [],
   "source": [
    "# set directories\n",
    "script_dir = os.getcwd()\n",
    "training_set_path = script_dir + \"/cnn_example1_dataset/training_set\"\n",
    "test_set_path = script_dir + \"/cnn_example1_dataset/test_set\""
   ]
  },
  {
   "cell_type": "code",
   "execution_count": 4,
   "metadata": {},
   "outputs": [],
   "source": [
    "# Initialising the CNN\n",
    "classifier = Sequential()\n",
    " \n",
    "# Step 1 - Convolution\n",
    "input_size = (128, 128)\n",
    "classifier.add(Conv2D(32, (3, 3), input_shape=(*input_size, 3), activation='relu'))\n",
    " \n",
    "# Step 2 - Pooling\n",
    "classifier.add(MaxPooling2D(pool_size=(2, 2)))  # 2x2 is optimal\n",
    " \n",
    "# Adding a second convolutional layer\n",
    "classifier.add(Conv2D(32, (3, 3), activation='relu'))\n",
    "classifier.add(MaxPooling2D(pool_size=(2, 2)))\n",
    " \n",
    "# Adding a third convolutional layer\n",
    "classifier.add(Conv2D(64, (3, 3), activation='relu'))\n",
    "classifier.add(MaxPooling2D(pool_size=(2, 2)))\n",
    " \n",
    "# Step 3 - Flattening\n",
    "classifier.add(Flatten())\n",
    " \n",
    "# Step 4 - Full connection\n",
    "classifier.add(Dense(units=64, activation='relu'))\n",
    "classifier.add(Dropout(0.5))\n",
    "classifier.add(Dense(units=1, activation='sigmoid'))"
   ]
  },
  {
   "cell_type": "code",
   "execution_count": 5,
   "metadata": {},
   "outputs": [],
   "source": [
    "# Compiling the CNN\n",
    "classifier.compile(optimizer='adam', loss='binary_crossentropy', metrics=['accuracy'])"
   ]
  },
  {
   "cell_type": "code",
   "execution_count": 6,
   "metadata": {},
   "outputs": [
    {
     "name": "stdout",
     "output_type": "stream",
     "text": [
      "Found 8000 images belonging to 2 classes.\n",
      "Found 2000 images belonging to 2 classes.\n"
     ]
    }
   ],
   "source": [
    "# Part 2 - Fitting the CNN to the images\n",
    "batch_size = 32\n",
    "train_datagen = ImageDataGenerator(rescale=1. / 255,\n",
    "                                   shear_range=0.2,\n",
    "                                   zoom_range=0.2,\n",
    "                                   horizontal_flip=True)\n",
    " \n",
    "test_datagen = ImageDataGenerator(rescale=1. / 255)\n",
    " \n",
    "training_set = train_datagen.flow_from_directory(training_set_path,\n",
    "                                                 target_size=input_size,\n",
    "                                                 batch_size=batch_size,\n",
    "                                                 class_mode='binary')\n",
    " \n",
    "test_set = test_datagen.flow_from_directory(test_set_path,\n",
    "                                            target_size=input_size,\n",
    "                                            batch_size=batch_size,\n",
    "                                            class_mode='binary')"
   ]
  },
  {
   "cell_type": "code",
   "execution_count": 7,
   "metadata": {},
   "outputs": [
    {
     "name": "stdout",
     "output_type": "stream",
     "text": [
      "Epoch 1/9\n",
      "250/250 [==============================] - 71s 284ms/step - loss: 0.6758 - acc: 0.5660 - val_loss: 0.6258 - val_acc: 0.6435\n",
      "Epoch 2/9\n",
      "250/250 [==============================] - 76s 303ms/step - loss: 0.6199 - acc: 0.6591 - val_loss: 0.6017 - val_acc: 0.6775\n",
      "Epoch 3/9\n",
      "250/250 [==============================] - 73s 291ms/step - loss: 0.5784 - acc: 0.7014 - val_loss: 0.6068 - val_acc: 0.6275\n",
      "Epoch 4/9\n",
      "250/250 [==============================] - 74s 296ms/step - loss: 0.5386 - acc: 0.7269 - val_loss: 0.4945 - val_acc: 0.7605\n",
      "Epoch 5/9\n",
      "250/250 [==============================] - 77s 308ms/step - loss: 0.4982 - acc: 0.7581 - val_loss: 0.4770 - val_acc: 0.7690\n",
      "Epoch 6/9\n",
      "250/250 [==============================] - 75s 301ms/step - loss: 0.4826 - acc: 0.7676 - val_loss: 0.4558 - val_acc: 0.7985\n",
      "Epoch 7/9\n",
      "250/250 [==============================] - 74s 297ms/step - loss: 0.4546 - acc: 0.7864 - val_loss: 0.4407 - val_acc: 0.7955\n",
      "Epoch 8/9\n",
      "250/250 [==============================] - 82s 329ms/step - loss: 0.4418 - acc: 0.8017 - val_loss: 0.4333 - val_acc: 0.8035\n",
      "Epoch 9/9\n",
      "250/250 [==============================] - 98s 392ms/step - loss: 0.4279 - acc: 0.8034 - val_loss: 0.4631 - val_acc: 0.7915\n"
     ]
    },
    {
     "data": {
      "text/plain": [
       "<tensorflow.python.keras.callbacks.History at 0x22acb186550>"
      ]
     },
     "execution_count": 7,
     "metadata": {},
     "output_type": "execute_result"
    }
   ],
   "source": [
    "# Create a loss history\n",
    "history = LossHistory()\n",
    " \n",
    "classifier.fit_generator(training_set,\n",
    "                         steps_per_epoch=8000/batch_size,\n",
    "                         epochs=9,\n",
    "                         validation_data=test_set,\n",
    "                         validation_steps=2000/batch_size,\n",
    "                         workers=12,\n",
    "#                         max_q_size=100,\n",
    "                         callbacks=[history])\n",
    " "
   ]
  },
  {
   "cell_type": "code",
   "execution_count": null,
   "metadata": {},
   "outputs": [],
   "source": [
    "# Save model\n",
    "# model_backup_path = os.path.join(script_dir, '/cnn_example1_dataset/cat_or_dogs_model.h5')\n",
    "model_backup_path = script_dir + \"/cnn_example1_dataset/cat_or_dogs_model.h5\"\n",
    "classifier.save(model_backup_path)\n",
    "print(\"Model saved to\", model_backup_path)"
   ]
  },
  {
   "cell_type": "code",
   "execution_count": null,
   "metadata": {},
   "outputs": [],
   "source": [
    "# Save loss history to file\n",
    "# loss_history_path = os.path.join(script_dir, '/cnn_example1_dataset/loss_history.log')\n",
    "loss_history_path = script_dir + \"/cnn_example1_dataset/loss_history.log\"\n",
    "myFile = open(loss_history_path, 'w+')\n",
    "myFile.write(history.losses)\n",
    "myFile.close()"
   ]
  },
  {
   "cell_type": "code",
   "execution_count": null,
   "metadata": {},
   "outputs": [],
   "source": [
    "backend.clear_session()\n",
    "print(\"The model class indices are:\", training_set.class_indices)"
   ]
  },
  {
   "cell_type": "code",
   "execution_count": null,
   "metadata": {},
   "outputs": [],
   "source": []
  },
  {
   "cell_type": "code",
   "execution_count": null,
   "metadata": {},
   "outputs": [],
   "source": []
  }
 ],
 "metadata": {
  "kernelspec": {
   "display_name": "Python 3",
   "language": "python",
   "name": "python3"
  },
  "language_info": {
   "codemirror_mode": {
    "name": "ipython",
    "version": 3
   },
   "file_extension": ".py",
   "mimetype": "text/x-python",
   "name": "python",
   "nbconvert_exporter": "python",
   "pygments_lexer": "ipython3",
   "version": "3.6.6"
  }
 },
 "nbformat": 4,
 "nbformat_minor": 2
}

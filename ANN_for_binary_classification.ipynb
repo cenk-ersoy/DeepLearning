{
 "cells": [
  {
   "cell_type": "markdown",
   "metadata": {},
   "source": [
    "## Artifical Neural Networks (ANN)for Binary Classification \n",
    "The example is from \"Practical Machine Learning with Python\" by Dipanjan Sarkar, Raghav Bali and Tushar Sharma"
   ]
  },
  {
   "cell_type": "code",
   "execution_count": 1,
   "metadata": {},
   "outputs": [
    {
     "name": "stderr",
     "output_type": "stream",
     "text": [
      "Using TensorFlow backend.\n"
     ]
    }
   ],
   "source": [
    "# import the required libraries\n",
    "import numpy as np\n",
    "from keras.models import Sequential\n",
    "from keras.layers import Dense, Dropout"
   ]
  },
  {
   "cell_type": "code",
   "execution_count": 3,
   "metadata": {},
   "outputs": [],
   "source": [
    "# load dataset\n",
    "from sklearn.datasets import load_breast_cancer\n",
    "cancer = load_breast_cancer()\n",
    "\n",
    "\n",
    "# we will have 30 features\n",
    "X_train = cancer.data[:340]\n",
    "y_train = cancer.target[:340]\n",
    "\n",
    "X_test = cancer.data[340:]\n",
    "y_test = cancer.target[340:]"
   ]
  },
  {
   "cell_type": "code",
   "execution_count": 4,
   "metadata": {},
   "outputs": [],
   "source": [
    "# we will build a shallow ANN model with a single hidden layer of 15 units\n",
    "# the output layer is 1 unit (binary) to predict either 1 or 0 based on whether the input data point is benign or malignant.\n",
    "\n",
    "model = Sequential()\n",
    "model.add(Dense(15, input_dim=30, activation='relu'))\n",
    "model.add(Dense(1, activation='sigmoid'))"
   ]
  },
  {
   "cell_type": "code",
   "execution_count": 5,
   "metadata": {},
   "outputs": [
    {
     "name": "stdout",
     "output_type": "stream",
     "text": [
      "WARNING:tensorflow:From C:\\ProgramData\\Anaconda3\\lib\\site-packages\\tensorflow\\python\\ops\\nn_impl.py:180: add_dispatch_support.<locals>.wrapper (from tensorflow.python.ops.array_ops) is deprecated and will be removed in a future version.\n",
      "Instructions for updating:\n",
      "Use tf.where in 2.0, which has the same broadcast rule as np.where\n"
     ]
    }
   ],
   "source": [
    "# now we will compile the model\n",
    "# Here we used a loss function of binary_crossentropy, which is a standard loss function for binary classification problems.\n",
    "# For the optimizer, we used rmsprop, which is an upgrade from the normal gradient descent algorithm.\n",
    "model.compile(loss='binary_crossentropy',\n",
    "              optimizer='rmsprop',\n",
    "              metrics=['accuracy'])"
   ]
  },
  {
   "cell_type": "code",
   "execution_count": 6,
   "metadata": {},
   "outputs": [
    {
     "name": "stdout",
     "output_type": "stream",
     "text": [
      "WARNING:tensorflow:From C:\\ProgramData\\Anaconda3\\lib\\site-packages\\keras\\backend\\tensorflow_backend.py:422: The name tf.global_variables is deprecated. Please use tf.compat.v1.global_variables instead.\n",
      "\n",
      "Epoch 1/20\n",
      "340/340 [==============================] - 0s 1ms/step - loss: 36.2729 - accuracy: 0.5412\n",
      "Epoch 2/20\n",
      "340/340 [==============================] - 0s 57us/step - loss: 14.4200 - accuracy: 0.4676\n",
      "Epoch 3/20\n",
      "340/340 [==============================] - 0s 60us/step - loss: 7.5140 - accuracy: 0.1765\n",
      "Epoch 4/20\n",
      "340/340 [==============================] - 0s 92us/step - loss: 6.4237 - accuracy: 0.2382\n",
      "Epoch 5/20\n",
      "340/340 [==============================] - 0s 104us/step - loss: 5.7918 - accuracy: 0.2824\n",
      "Epoch 6/20\n",
      "340/340 [==============================] - 0s 79us/step - loss: 4.9002 - accuracy: 0.2735\n",
      "Epoch 7/20\n",
      "340/340 [==============================] - 0s 121us/step - loss: 3.6831 - accuracy: 0.3265\n",
      "Epoch 8/20\n",
      "340/340 [==============================] - 0s 141us/step - loss: 2.2512 - accuracy: 0.4853\n",
      "Epoch 9/20\n",
      "340/340 [==============================] - 0s 71us/step - loss: 1.1911 - accuracy: 0.7029\n",
      "Epoch 10/20\n",
      "340/340 [==============================] - 0s 82us/step - loss: 0.7519 - accuracy: 0.8176\n",
      "Epoch 11/20\n",
      "340/340 [==============================] - 0s 129us/step - loss: 0.5997 - accuracy: 0.8294\n",
      "Epoch 12/20\n",
      "340/340 [==============================] - 0s 59us/step - loss: 0.4385 - accuracy: 0.8794\n",
      "Epoch 13/20\n",
      "340/340 [==============================] - 0s 59us/step - loss: 0.3786 - accuracy: 0.9029\n",
      "Epoch 14/20\n",
      "340/340 [==============================] - 0s 73us/step - loss: 0.3519 - accuracy: 0.8941\n",
      "Epoch 15/20\n",
      "340/340 [==============================] - 0s 64us/step - loss: 0.3271 - accuracy: 0.8971\n",
      "Epoch 16/20\n",
      "340/340 [==============================] - 0s 98us/step - loss: 0.3463 - accuracy: 0.8971\n",
      "Epoch 17/20\n",
      "340/340 [==============================] - 0s 133us/step - loss: 0.3154 - accuracy: 0.8912\n",
      "Epoch 18/20\n",
      "340/340 [==============================] - 0s 80us/step - loss: 0.2986 - accuracy: 0.9029\n",
      "Epoch 19/20\n",
      "340/340 [==============================] - 0s 113us/step - loss: 0.2943 - accuracy: 0.8882\n",
      "Epoch 20/20\n",
      "340/340 [==============================] - 0s 120us/step - loss: 0.2662 - accuracy: 0.9088\n"
     ]
    },
    {
     "data": {
      "text/plain": [
       "<keras.callbacks.callbacks.History at 0x16bc7d7ee10>"
      ]
     },
     "execution_count": 6,
     "metadata": {},
     "output_type": "execute_result"
    }
   ],
   "source": [
    "# now we will train the model\n",
    "# the epochs parameter indicates one complete forward and backward pass of all the training examples. \n",
    "# The batch_size parameter indicates the total number of samples which are propagated through the ANN model at a time\n",
    "model.fit(X_train, y_train,\n",
    "          epochs=20,\n",
    "          batch_size=50)"
   ]
  },
  {
   "cell_type": "code",
   "execution_count": 7,
   "metadata": {},
   "outputs": [],
   "source": [
    "# get the predictions for the test dataset\n",
    "predictions = model.predict_classes(X_test)"
   ]
  },
  {
   "cell_type": "code",
   "execution_count": 8,
   "metadata": {},
   "outputs": [
    {
     "name": "stdout",
     "output_type": "stream",
     "text": [
      "Accuracy: 0.8034934497816594\n",
      "              precision    recall  f1-score   support\n",
      "\n",
      "           0       0.56      0.87      0.68        55\n",
      "           1       0.95      0.78      0.86       174\n",
      "\n",
      "    accuracy                           0.80       229\n",
      "   macro avg       0.75      0.83      0.77       229\n",
      "weighted avg       0.86      0.80      0.82       229\n",
      "\n"
     ]
    }
   ],
   "source": [
    "# score the model\n",
    "from sklearn import metrics\n",
    "\n",
    "print('Accuracy:', metrics.accuracy_score(y_true=y_test, y_pred=predictions))\n",
    "print(metrics.classification_report(y_true=y_test, y_pred=predictions))"
   ]
  },
  {
   "cell_type": "code",
   "execution_count": 9,
   "metadata": {},
   "outputs": [],
   "source": [
    "# it seems that the model has not learned much. "
   ]
  },
  {
   "cell_type": "code",
   "execution_count": 10,
   "metadata": {},
   "outputs": [
    {
     "name": "stdout",
     "output_type": "stream",
     "text": [
      "Epoch 1/20\n",
      "340/340 [==============================] - 0s 914us/step - loss: 8.3310 - accuracy: 0.4618\n",
      "Epoch 2/20\n",
      "340/340 [==============================] - 0s 44us/step - loss: 0.9139 - accuracy: 0.7176\n",
      "Epoch 3/20\n",
      "340/340 [==============================] - 0s 59us/step - loss: 0.3045 - accuracy: 0.9088\n",
      "Epoch 4/20\n",
      "340/340 [==============================] - 0s 65us/step - loss: 0.2828 - accuracy: 0.9147\n",
      "Epoch 5/20\n",
      "340/340 [==============================] - 0s 87us/step - loss: 0.3251 - accuracy: 0.8882\n",
      "Epoch 6/20\n",
      "340/340 [==============================] - 0s 97us/step - loss: 0.2876 - accuracy: 0.8824\n",
      "Epoch 7/20\n",
      "340/340 [==============================] - 0s 91us/step - loss: 0.2539 - accuracy: 0.9118\n",
      "Epoch 8/20\n",
      "340/340 [==============================] - 0s 85us/step - loss: 0.4200 - accuracy: 0.8529\n",
      "Epoch 9/20\n",
      "340/340 [==============================] - 0s 144us/step - loss: 0.2950 - accuracy: 0.9059\n",
      "Epoch 10/20\n",
      "340/340 [==============================] - 0s 40us/step - loss: 0.2570 - accuracy: 0.9176\n",
      "Epoch 11/20\n",
      "340/340 [==============================] - 0s 118us/step - loss: 0.2829 - accuracy: 0.8824\n",
      "Epoch 12/20\n",
      "340/340 [==============================] - 0s 166us/step - loss: 0.3272 - accuracy: 0.8853\n",
      "Epoch 13/20\n",
      "340/340 [==============================] - 0s 77us/step - loss: 0.2792 - accuracy: 0.9118\n",
      "Epoch 14/20\n",
      "340/340 [==============================] - 0s 74us/step - loss: 0.2602 - accuracy: 0.9029\n",
      "Epoch 15/20\n",
      "340/340 [==============================] - 0s 144us/step - loss: 0.2644 - accuracy: 0.9324\n",
      "Epoch 16/20\n",
      "340/340 [==============================] - 0s 99us/step - loss: 0.2604 - accuracy: 0.9206\n",
      "Epoch 17/20\n",
      "340/340 [==============================] - 0s 80us/step - loss: 0.2386 - accuracy: 0.9235\n",
      "Epoch 18/20\n",
      "340/340 [==============================] - 0s 71us/step - loss: 0.3603 - accuracy: 0.8853\n",
      "Epoch 19/20\n",
      "340/340 [==============================] - 0s 73us/step - loss: 0.2524 - accuracy: 0.9265\n",
      "Epoch 20/20\n",
      "340/340 [==============================] - 0s 143us/step - loss: 0.2365 - accuracy: 0.9206\n"
     ]
    },
    {
     "data": {
      "text/plain": [
       "<keras.callbacks.callbacks.History at 0x16bc99039b0>"
      ]
     },
     "execution_count": 10,
     "metadata": {},
     "output_type": "execute_result"
    }
   ],
   "source": [
    "# we can improve our model by using Deep Learning\n",
    "# we will add more hidden layers\n",
    "# we are adding two more hidden layers, each with 15 units\n",
    "model = Sequential()\n",
    "model.add(Dense(15, input_dim=30, activation='relu'))  #hidden layer1\n",
    "model.add(Dense(15, activation='relu'))  # hidden layer 2\n",
    "model.add(Dense(15, activation='relu'))  # hidden layer 3\n",
    "model.add(Dense(1, activation='sigmoid'))\n",
    "\n",
    "model.compile(loss='binary_crossentropy',\n",
    "              optimizer='rmsprop',\n",
    "              metrics=['accuracy'])\n",
    "\n",
    "model.fit(X_train, y_train,\n",
    "          epochs=20,\n",
    "          batch_size=50)"
   ]
  },
  {
   "cell_type": "code",
   "execution_count": 11,
   "metadata": {},
   "outputs": [],
   "source": [
    "# get the predictions for the test dataset\n",
    "predictions = model.predict_classes(X_test)"
   ]
  },
  {
   "cell_type": "code",
   "execution_count": 12,
   "metadata": {},
   "outputs": [
    {
     "name": "stdout",
     "output_type": "stream",
     "text": [
      "Accuracy: 0.6986899563318777\n",
      "              precision    recall  f1-score   support\n",
      "\n",
      "           0       0.44      0.95      0.60        55\n",
      "           1       0.97      0.62      0.76       174\n",
      "\n",
      "    accuracy                           0.70       229\n",
      "   macro avg       0.71      0.78      0.68       229\n",
      "weighted avg       0.85      0.70      0.72       229\n",
      "\n"
     ]
    }
   ],
   "source": [
    "# score the model\n",
    "print('Accuracy:', metrics.accuracy_score(y_true=y_test, y_pred=predictions))\n",
    "print(metrics.classification_report(y_true=y_test, y_pred=predictions))"
   ]
  },
  {
   "cell_type": "code",
   "execution_count": null,
   "metadata": {},
   "outputs": [],
   "source": []
  }
 ],
 "metadata": {
  "kernelspec": {
   "display_name": "Python 3",
   "language": "python",
   "name": "python3"
  },
  "language_info": {
   "codemirror_mode": {
    "name": "ipython",
    "version": 3
   },
   "file_extension": ".py",
   "mimetype": "text/x-python",
   "name": "python",
   "nbconvert_exporter": "python",
   "pygments_lexer": "ipython3",
   "version": "3.7.3"
  }
 },
 "nbformat": 4,
 "nbformat_minor": 2
}

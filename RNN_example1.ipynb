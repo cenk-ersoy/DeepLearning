{
 "cells": [
  {
   "cell_type": "markdown",
   "metadata": {},
   "source": [
    "## ReCurrent Neural Network (RNN) Example1\n",
    "This example is from the Udemy course titled \"Deep Learning A-Z - Handson ANNs\" by Kirill Eremenko."
   ]
  },
  {
   "cell_type": "code",
   "execution_count": 1,
   "metadata": {},
   "outputs": [],
   "source": [
    "# In this example, we will try to predict the stock price for Google for the next 1 month (Jan 2017),\n",
    "# given stock price data for the last 5 years (Jan 2012 to Dec 2016).\n",
    "# We wil build an LSTM that predicts the upward and downward trends in Google stock price.\n",
    "# Financial data can be downloaded from https://finance.yahoo.com/ "
   ]
  },
  {
   "cell_type": "code",
   "execution_count": 2,
   "metadata": {},
   "outputs": [],
   "source": [
    "# Part 1 - Data Preprocessing\n",
    "\n",
    "# Importing the libraries\n",
    "import numpy as np\n",
    "import matplotlib.pyplot as plt\n",
    "import pandas as pd"
   ]
  },
  {
   "cell_type": "code",
   "execution_count": 3,
   "metadata": {},
   "outputs": [],
   "source": [
    "# Importing the training set\n",
    "dataset_train = pd.read_csv('../rnn_example1_data/RNN_example1_traindata.csv')\n",
    "# we are importing only \"opening price\". But we need to import it as a numpy array of one column. \n",
    "# The index [:,1:2] gets only Column1 which is the second column in the file.\n",
    "# Note that using [:,1] would give us a vector instead of a numpy array.\n",
    "training_set = dataset_train.iloc[:, 1:2].values"
   ]
  },
  {
   "cell_type": "code",
   "execution_count": 4,
   "metadata": {},
   "outputs": [],
   "source": [
    "# Feature Scaling\n",
    "# for RNNs leveraging sigmoid as the activation function, minmax scaling (normalization) is preferred over standardization \n",
    "from sklearn.preprocessing import MinMaxScaler\n",
    "sc = MinMaxScaler(feature_range = (0, 1))\n",
    "training_set_scaled = sc.fit_transform(training_set)"
   ]
  },
  {
   "cell_type": "code",
   "execution_count": 5,
   "metadata": {},
   "outputs": [],
   "source": [
    "# This data structure determines what RNN will remember.\n",
    "# Creating a data structure with 60 timesteps and 1 output.\n",
    "# The RNN will use the last 60 prices to predict the next value. This value is determined by experimentation.\n",
    "# it is a sliding window of 60 elements, stride is one\n",
    "# 60 time steps is about 3 months since the data excludes weekends and holidays etc.\n",
    "# In the training dataset we have 1258 rows. It is actually better NOT to hardcode that value.\n",
    "X_train = []\n",
    "y_train = []\n",
    "for i in range(60, 1258):\n",
    "    X_train.append(training_set_scaled[i-60:i, 0])\n",
    "    y_train.append(training_set_scaled[i, 0])\n",
    "# coverting from list to numpy array\n",
    "X_train, y_train = np.array(X_train), np.array(y_train)"
   ]
  },
  {
   "cell_type": "code",
   "execution_count": 6,
   "metadata": {},
   "outputs": [],
   "source": [
    "# Reshaping to the correct dimensions that RNN algorithm expects\n",
    "# we are adding a new dimension to the numpy array\n",
    "# for correct syntax, check https://keras.io/layers/recurrent/ \n",
    "# 3D tensor with shape (batch_size, timesteps, input_dim)\n",
    "# batch_size = 1258, timesteps = 60, input_dim = 1 (we have only the opening price)\n",
    "# we could add additional indicators such as volume, close price etc.\n",
    "# the stock price could be correlated to volume, closing price, another company's stock price etc. \n",
    "X_train = np.reshape(X_train, (X_train.shape[0], X_train.shape[1], 1))"
   ]
  },
  {
   "cell_type": "code",
   "execution_count": 7,
   "metadata": {},
   "outputs": [
    {
     "name": "stderr",
     "output_type": "stream",
     "text": [
      "Using TensorFlow backend.\n"
     ]
    }
   ],
   "source": [
    "# Part 2 - Building the RNN\n",
    "\n",
    "# Importing the Keras libraries and packages\n",
    "from keras.models import Sequential\n",
    "from keras.layers import Dense\n",
    "from keras.layers import LSTM\n",
    "from keras.layers import Dropout"
   ]
  },
  {
   "cell_type": "code",
   "execution_count": 8,
   "metadata": {},
   "outputs": [],
   "source": [
    "# Initialising the RNN\n",
    "# this is a regression problem\n",
    "regressor = Sequential()"
   ]
  },
  {
   "cell_type": "code",
   "execution_count": 9,
   "metadata": {},
   "outputs": [],
   "source": [
    "# Adding the first LSTM layer and some Dropout regularisation to prevent overfitting\n",
    "# for the input_shape, you need to specify only the last 2 arguments which are timesteps, input_dim\n",
    "# 50 neurons is just a guess.\n",
    "regressor.add(LSTM(units = 50, return_sequences = True, input_shape = (X_train.shape[1], 1)))\n",
    "# dropout rate is 20%\n",
    "regressor.add(Dropout(0.2))"
   ]
  },
  {
   "cell_type": "code",
   "execution_count": 10,
   "metadata": {},
   "outputs": [],
   "source": [
    "# Adding a second LSTM layer and some Dropout regularisation\n",
    "regressor.add(LSTM(units = 50, return_sequences = True))\n",
    "regressor.add(Dropout(0.2))"
   ]
  },
  {
   "cell_type": "code",
   "execution_count": 11,
   "metadata": {},
   "outputs": [],
   "source": [
    "# Adding a third LSTM layer and some Dropout regularisation\n",
    "regressor.add(LSTM(units = 50, return_sequences = True))\n",
    "regressor.add(Dropout(0.2))"
   ]
  },
  {
   "cell_type": "code",
   "execution_count": 12,
   "metadata": {},
   "outputs": [],
   "source": [
    "# Adding a fourth LSTM layer and some Dropout regularisation\n",
    "# since this is the last LSTM layer, we accept the default value of 'false' for 'return_sequences'\n",
    "regressor.add(LSTM(units = 50))\n",
    "regressor.add(Dropout(0.2))"
   ]
  },
  {
   "cell_type": "code",
   "execution_count": 13,
   "metadata": {},
   "outputs": [],
   "source": [
    "# Adding the output layer (fully connected layer)\n",
    "# we are predicting one real value (opening stock price at time t+1), so units=1\n",
    "regressor.add(Dense(units = 1))"
   ]
  },
  {
   "cell_type": "code",
   "execution_count": 14,
   "metadata": {},
   "outputs": [],
   "source": [
    "# Compiling the RNN\n",
    "# actually, according to https://keras.io/optimizers/,  RMSProp is the recommended optimizer for RNNs.\n",
    "regressor.compile(optimizer = 'adam', loss = 'mean_squared_error')"
   ]
  },
  {
   "cell_type": "code",
   "execution_count": 15,
   "metadata": {},
   "outputs": [
    {
     "name": "stdout",
     "output_type": "stream",
     "text": [
      "WARNING:tensorflow:From C:\\ProgramData\\Anaconda3\\lib\\site-packages\\keras\\backend\\tensorflow_backend.py:422: The name tf.global_variables is deprecated. Please use tf.compat.v1.global_variables instead.\n",
      "\n",
      "Epoch 1/100\n",
      "1198/1198 [==============================] - 44s 37ms/step - loss: 0.0532\n",
      "Epoch 2/100\n",
      "1198/1198 [==============================] - 52s 43ms/step - loss: 0.0075\n",
      "Epoch 3/100\n",
      "1198/1198 [==============================] - 36s 30ms/step - loss: 0.0057\n",
      "Epoch 4/100\n",
      "1198/1198 [==============================] - 40s 34ms/step - loss: 0.0054\n",
      "Epoch 5/100\n",
      "1198/1198 [==============================] - 57s 47ms/step - loss: 0.0058\n",
      "Epoch 6/100\n",
      "1198/1198 [==============================] - 83s 69ms/step - loss: 0.0050\n",
      "Epoch 7/100\n",
      "1198/1198 [==============================] - 45s 37ms/step - loss: 0.0045\n",
      "Epoch 8/100\n",
      "1198/1198 [==============================] - 35s 29ms/step - loss: 0.0046\n",
      "Epoch 9/100\n",
      "1198/1198 [==============================] - 42s 35ms/step - loss: 0.0044\n",
      "Epoch 10/100\n",
      "1198/1198 [==============================] - 46s 39ms/step - loss: 0.0047\n",
      "Epoch 11/100\n",
      "1198/1198 [==============================] - 67s 56ms/step - loss: 0.0042\n",
      "Epoch 12/100\n",
      "1198/1198 [==============================] - 60s 50ms/step - loss: 0.0042\n",
      "Epoch 13/100\n",
      "1198/1198 [==============================] - 47s 40ms/step - loss: 0.0040\n",
      "Epoch 14/100\n",
      "1198/1198 [==============================] - 62s 52ms/step - loss: 0.0041\n",
      "Epoch 15/100\n",
      "1198/1198 [==============================] - 40s 34ms/step - loss: 0.0040\n",
      "Epoch 16/100\n",
      "1198/1198 [==============================] - 30s 25ms/step - loss: 0.0044\n",
      "Epoch 17/100\n",
      "1198/1198 [==============================] - 30s 25ms/step - loss: 0.0036\n",
      "Epoch 18/100\n",
      "1198/1198 [==============================] - 32s 26ms/step - loss: 0.0034\n",
      "Epoch 19/100\n",
      "1198/1198 [==============================] - 39s 33ms/step - loss: 0.0043\n",
      "Epoch 20/100\n",
      "1198/1198 [==============================] - 51s 42ms/step - loss: 0.0036\n",
      "Epoch 21/100\n",
      "1198/1198 [==============================] - 34s 28ms/step - loss: 0.0039\n",
      "Epoch 22/100\n",
      "1198/1198 [==============================] - 31s 26ms/step - loss: 0.0034\n",
      "Epoch 23/100\n",
      "1198/1198 [==============================] - 33s 27ms/step - loss: 0.0032\n",
      "Epoch 24/100\n",
      "1198/1198 [==============================] - 43s 36ms/step - loss: 0.0036\n",
      "Epoch 25/100\n",
      "1198/1198 [==============================] - 37s 31ms/step - loss: 0.0034\n",
      "Epoch 26/100\n",
      "1198/1198 [==============================] - 53s 45ms/step - loss: 0.0031\n",
      "Epoch 27/100\n",
      "1198/1198 [==============================] - 34s 29ms/step - loss: 0.0032\n",
      "Epoch 28/100\n",
      "1198/1198 [==============================] - 32s 27ms/step - loss: 0.0032\n",
      "Epoch 29/100\n",
      "1198/1198 [==============================] - 32s 27ms/step - loss: 0.0029\n",
      "Epoch 30/100\n",
      "1198/1198 [==============================] - 36s 30ms/step - loss: 0.0031\n",
      "Epoch 31/100\n",
      "1198/1198 [==============================] - 32s 27ms/step - loss: 0.0028\n",
      "Epoch 32/100\n",
      "1198/1198 [==============================] - 32s 27ms/step - loss: 0.0035\n",
      "Epoch 33/100\n",
      "1198/1198 [==============================] - 32s 26ms/step - loss: 0.0027\n",
      "Epoch 34/100\n",
      "1198/1198 [==============================] - 31s 26ms/step - loss: 0.0028\n",
      "Epoch 35/100\n",
      "1198/1198 [==============================] - 33s 27ms/step - loss: 0.0030\n",
      "Epoch 36/100\n",
      "1198/1198 [==============================] - 30s 25ms/step - loss: 0.0025\n",
      "Epoch 37/100\n",
      "1198/1198 [==============================] - 32s 27ms/step - loss: 0.0028\n",
      "Epoch 38/100\n",
      "1198/1198 [==============================] - 31s 26ms/step - loss: 0.0024\n",
      "Epoch 39/100\n",
      "1198/1198 [==============================] - 35s 29ms/step - loss: 0.0026\n",
      "Epoch 40/100\n",
      "1198/1198 [==============================] - 36s 30ms/step - loss: 0.0030\n",
      "Epoch 41/100\n",
      "1198/1198 [==============================] - 38s 32ms/step - loss: 0.0026\n",
      "Epoch 42/100\n",
      "1198/1198 [==============================] - 31s 26ms/step - loss: 0.0029\n",
      "Epoch 43/100\n",
      "1198/1198 [==============================] - 31s 26ms/step - loss: 0.0029\n",
      "Epoch 44/100\n",
      "1198/1198 [==============================] - 31s 26ms/step - loss: 0.0027\n",
      "Epoch 45/100\n",
      "1198/1198 [==============================] - 31s 26ms/step - loss: 0.0030\n",
      "Epoch 46/100\n",
      "1198/1198 [==============================] - 32s 27ms/step - loss: 0.0024\n",
      "Epoch 47/100\n",
      "1198/1198 [==============================] - 32s 26ms/step - loss: 0.0027\n",
      "Epoch 48/100\n",
      "1198/1198 [==============================] - 31s 26ms/step - loss: 0.0025\n",
      "Epoch 49/100\n",
      "1198/1198 [==============================] - 34s 29ms/step - loss: 0.0024\n",
      "Epoch 50/100\n",
      "1198/1198 [==============================] - 32s 26ms/step - loss: 0.0026\n",
      "Epoch 51/100\n",
      "1198/1198 [==============================] - 32s 27ms/step - loss: 0.0025\n",
      "Epoch 52/100\n",
      "1198/1198 [==============================] - 35s 29ms/step - loss: 0.0023\n",
      "Epoch 53/100\n",
      "1198/1198 [==============================] - 34s 29ms/step - loss: 0.0022\n",
      "Epoch 54/100\n",
      "1198/1198 [==============================] - 34s 28ms/step - loss: 0.0025\n",
      "Epoch 55/100\n",
      "1198/1198 [==============================] - 34s 29ms/step - loss: 0.0021\n",
      "Epoch 56/100\n",
      "1198/1198 [==============================] - 36s 30ms/step - loss: 0.0023\n",
      "Epoch 57/100\n",
      "1198/1198 [==============================] - 35s 29ms/step - loss: 0.0023\n",
      "Epoch 58/100\n",
      "1198/1198 [==============================] - 36s 30ms/step - loss: 0.0021\n",
      "Epoch 59/100\n",
      "1198/1198 [==============================] - 36s 30ms/step - loss: 0.0021\n",
      "Epoch 60/100\n",
      "1198/1198 [==============================] - 36s 30ms/step - loss: 0.0022\n",
      "Epoch 61/100\n",
      "1198/1198 [==============================] - 35s 29ms/step - loss: 0.0021\n",
      "Epoch 62/100\n",
      "1198/1198 [==============================] - 36s 30ms/step - loss: 0.0019\n",
      "Epoch 63/100\n",
      "1198/1198 [==============================] - 37s 31ms/step - loss: 0.0021\n",
      "Epoch 64/100\n",
      "1198/1198 [==============================] - 36s 30ms/step - loss: 0.0020\n",
      "Epoch 65/100\n",
      "1198/1198 [==============================] - 34s 28ms/step - loss: 0.0019\n",
      "Epoch 66/100\n",
      "1198/1198 [==============================] - 35s 30ms/step - loss: 0.0019\n",
      "Epoch 67/100\n",
      "1198/1198 [==============================] - 35s 29ms/step - loss: 0.0020\n",
      "Epoch 68/100\n",
      "1198/1198 [==============================] - 36s 30ms/step - loss: 0.0018\n",
      "Epoch 69/100\n",
      "1198/1198 [==============================] - 34s 29ms/step - loss: 0.0021\n",
      "Epoch 70/100\n",
      "1198/1198 [==============================] - 35s 29ms/step - loss: 0.0021\n",
      "Epoch 71/100\n",
      "1198/1198 [==============================] - 37s 31ms/step - loss: 0.0022\n",
      "Epoch 72/100\n",
      "1198/1198 [==============================] - 38s 32ms/step - loss: 0.0021\n",
      "Epoch 73/100\n",
      "1198/1198 [==============================] - 37s 31ms/step - loss: 0.0018\n",
      "Epoch 74/100\n",
      "1198/1198 [==============================] - 42s 35ms/step - loss: 0.0021\n",
      "Epoch 75/100\n",
      "1198/1198 [==============================] - 35s 29ms/step - loss: 0.0017\n",
      "Epoch 76/100\n",
      "1198/1198 [==============================] - 34s 29ms/step - loss: 0.0017\n",
      "Epoch 77/100\n",
      "1198/1198 [==============================] - 35s 29ms/step - loss: 0.0018\n",
      "Epoch 78/100\n",
      "1198/1198 [==============================] - 35s 29ms/step - loss: 0.0019\n",
      "Epoch 79/100\n",
      "1198/1198 [==============================] - 38s 32ms/step - loss: 0.0017\n",
      "Epoch 80/100\n",
      "1198/1198 [==============================] - 40s 33ms/step - loss: 0.0017\n",
      "Epoch 81/100\n",
      "1198/1198 [==============================] - 36s 30ms/step - loss: 0.0018\n",
      "Epoch 82/100\n",
      "1198/1198 [==============================] - 38s 32ms/step - loss: 0.0018\n",
      "Epoch 83/100\n",
      "1198/1198 [==============================] - 38s 32ms/step - loss: 0.0016\n",
      "Epoch 84/100\n",
      "1198/1198 [==============================] - 35s 29ms/step - loss: 0.0016\n",
      "Epoch 85/100\n",
      "1198/1198 [==============================] - 36s 30ms/step - loss: 0.0019\n",
      "Epoch 86/100\n",
      "1198/1198 [==============================] - 39s 33ms/step - loss: 0.0016\n",
      "Epoch 87/100\n",
      "1198/1198 [==============================] - 37s 31ms/step - loss: 0.0020\n",
      "Epoch 88/100\n",
      "1198/1198 [==============================] - 41s 34ms/step - loss: 0.0016\n",
      "Epoch 89/100\n",
      "1198/1198 [==============================] - 39s 32ms/step - loss: 0.0018\n",
      "Epoch 90/100\n",
      "1198/1198 [==============================] - 37s 31ms/step - loss: 0.0017\n",
      "Epoch 91/100\n",
      "1198/1198 [==============================] - 35s 29ms/step - loss: 0.0019\n",
      "Epoch 92/100\n",
      "1198/1198 [==============================] - 35s 29ms/step - loss: 0.0017\n",
      "Epoch 93/100\n",
      "1198/1198 [==============================] - 36s 30ms/step - loss: 0.0016\n",
      "Epoch 94/100\n",
      "1198/1198 [==============================] - 35s 29ms/step - loss: 0.0016\n",
      "Epoch 95/100\n",
      "1198/1198 [==============================] - 35s 29ms/step - loss: 0.0016\n",
      "Epoch 96/100\n",
      "1198/1198 [==============================] - 34s 29ms/step - loss: 0.0016\n",
      "Epoch 97/100\n",
      "1198/1198 [==============================] - 39s 32ms/step - loss: 0.0015\n",
      "Epoch 98/100\n",
      "1198/1198 [==============================] - 36s 30ms/step - loss: 0.0015\n",
      "Epoch 99/100\n",
      "1198/1198 [==============================] - 37s 31ms/step - loss: 0.0014\n",
      "Epoch 100/100\n",
      "1198/1198 [==============================] - 35s 29ms/step - loss: 0.0014\n"
     ]
    },
    {
     "data": {
      "text/plain": [
       "<keras.callbacks.callbacks.History at 0x1c366cf5a58>"
      ]
     },
     "execution_count": 15,
     "metadata": {},
     "output_type": "execute_result"
    }
   ],
   "source": [
    "# Fitting the RNN to the training set\n",
    "# epochs and batch_size are determined by trial and error\n",
    "regressor.fit(X_train, y_train, epochs = 100, batch_size = 32)"
   ]
  },
  {
   "cell_type": "code",
   "execution_count": 16,
   "metadata": {},
   "outputs": [],
   "source": [
    "# recall that, if the loss is too little, it indicates overfitting"
   ]
  },
  {
   "cell_type": "code",
   "execution_count": 17,
   "metadata": {},
   "outputs": [],
   "source": [
    "# Part 3 - Making the predictions and visualising the results"
   ]
  },
  {
   "cell_type": "code",
   "execution_count": 18,
   "metadata": {},
   "outputs": [],
   "source": [
    "# Getting the real stock price of 2017\n",
    "# since there are 20 financial dates in a month, the test dataset has 20 values\n",
    "dataset_test = pd.read_csv('../rnn_example1_data/RNN_example1_testdata.csv')\n",
    "# The index [:,1:2] gets only Column1 which is the second column in the file.\n",
    "# Note that using [:,1] would give us a vector instead of a numpy array.\n",
    "real_stock_price = dataset_test.iloc[:, 1:2].values"
   ]
  },
  {
   "cell_type": "code",
   "execution_count": 19,
   "metadata": {},
   "outputs": [],
   "source": [
    "# Getting the predicted stock price of 2017.\n",
    "# since every financial day's stock price depends on the last 60 days, \n",
    "# some of the data will include Jan dates which is are the test dataset\n",
    "# therefore we are concatenating the training and test datasets.\n",
    "# Also, we do not want to scale the actual test dataset. We will concat the original, unscaled training dataset.\n",
    "# we are concatting rows (axis=0)\n",
    "dataset_total = pd.concat((dataset_train['Open'], dataset_test['Open']), axis = 0)\n",
    "\n",
    "\n",
    "# the inputs array will contain all stock prices we need to predict for Jan 2017\n",
    "# (starting the first financial date of Jan 2017 to last financial date of Jan 2017)\n",
    "# at each financial day of Jan 2017, we need the opening prices from the 60 previous financial days\n",
    "# the inputs array starts with the first financial date of Jan 2017, which is calculated as follows:\n",
    "# len(dataset_total) - len(dataset_test)\n",
    "inputs = dataset_total[len(dataset_total) - len(dataset_test) - 60:].values\n",
    "\n",
    "# getting the right numpy shape\n",
    "inputs = inputs.reshape(-1,1)\n",
    "\n",
    "# now we can scale it (note that it is already fitted, we do not use fit() but transform())\n",
    "inputs = sc.transform(inputs)\n",
    "\n",
    "# now we will resize it to 3D that the RNN expects (like we did before)\n",
    "# 60 time steps is about 3 months since the data excludes weekends and holidays etc.\n",
    "# In the test dataset we have 80 rows (20 financial days for Jan 2017 and 60 prior values). \n",
    "# It is actually better NOT to hardcode that value.\n",
    "X_test = []\n",
    "for i in range(60, 80):\n",
    "    X_test.append(inputs[i-60:i, 0])\n",
    "\n",
    "X_test = np.array(X_test)\n",
    "X_test = np.reshape(X_test, (X_test.shape[0], X_test.shape[1], 1))\n",
    "\n",
    "predicted_stock_price = regressor.predict(X_test)\n",
    "\n",
    "# we need the unscaled stock prices\n",
    "predicted_stock_price = sc.inverse_transform(predicted_stock_price)"
   ]
  },
  {
   "cell_type": "code",
   "execution_count": 20,
   "metadata": {},
   "outputs": [
    {
     "data": {
      "image/png": "[encoded data removed]",
      "text/plain": [
       "<Figure size 432x288 with 1 Axes>"
      ]
     },
     "metadata": {
      "needs_background": "light"
     },
     "output_type": "display_data"
    }
   ],
   "source": [
    "# Visualising the results\n",
    "# Time is in financial days (0-20)\n",
    "plt.plot(real_stock_price, color = 'red', label = 'Real Google Stock Price')\n",
    "plt.plot(predicted_stock_price, color = 'blue', label = 'Predicted Google Stock Price')\n",
    "plt.title('Google Stock Price Prediction')\n",
    "plt.xlabel('Time')\n",
    "plt.ylabel('Google Stock Price')\n",
    "plt.legend()\n",
    "plt.show()"
   ]
  },
  {
   "cell_type": "code",
   "execution_count": 21,
   "metadata": {},
   "outputs": [],
   "source": [
    "# the model lags behind the sudden changes in the actual price by 2-3 days\n",
    "# the model can be improved by getting more training data, increasing number of time steps, adding additional indicators,\n",
    "# adding more layers to LSTM, adding more neurons per layer etc."
   ]
  },
  {
   "cell_type": "code",
   "execution_count": null,
   "metadata": {},
   "outputs": [],
   "source": [
    "# we could also add parameter tuning to this example.\n",
    "# use scoring = 'neg_mean_squared_error'  in the GridSearchCV class."
   ]
  }
 ],
 "metadata": {
  "kernelspec": {
   "display_name": "Python 3",
   "language": "python",
   "name": "python3"
  },
  "language_info": {
   "codemirror_mode": {
    "name": "ipython",
    "version": 3
   },
   "file_extension": ".py",
   "mimetype": "text/x-python",
   "name": "python",
   "nbconvert_exporter": "python",
   "pygments_lexer": "ipython3",
   "version": "3.6.6"
  }
 },
 "nbformat": 4,
 "nbformat_minor": 2
}
